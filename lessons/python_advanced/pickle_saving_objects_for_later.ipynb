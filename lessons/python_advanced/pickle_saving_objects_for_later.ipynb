{
 "cells": [
  {
   "cell_type": "code",
   "execution_count": null,
   "metadata": {},
   "outputs": [],
   "source": [
    "import sys\n",
    "print(\"Python Version:\", sys.version, '\\n')"
   ]
  },
  {
   "cell_type": "markdown",
   "metadata": {},
   "source": [
    "# Pickle: Saving Objects for Later"
   ]
  },
  {
   "cell_type": "markdown",
   "metadata": {},
   "source": [
    "Often in data science, we'll create some model or some version of our data and want to use it later. We have many options - we can save the coefficients, or save the data to csv, or...\n",
    "\n",
    "Actually, we don't have that many options. \n",
    "\n",
    "One way to overcome that is to save the python object to a file as a serialized object. That means we convert the entire object to a bunch of bytes, save those bytes into a file, and then have the ability to unpack those bytes back into their original format later. \n",
    "\n",
    "This is done by a module called `pickle`. Let's see it in action."
   ]
  },
  {
   "cell_type": "code",
   "execution_count": 1,
   "metadata": {},
   "outputs": [],
   "source": [
    "import pickle\n",
    "import random\n",
    "\n",
    "lots_of_noise = {\n",
    "    'CA': [random.randint(0,65) for _ in range(100)],\n",
    "    'IL': [random.randint(0,65) for _ in range(50)],\n",
    "    'NY': [random.randint(0,65) for _ in range(90)],\n",
    "    'WA': [random.randint(0,65) for _ in range(33)]\n",
    "}"
   ]
  },
  {
   "cell_type": "code",
   "execution_count": 2,
   "metadata": {},
   "outputs": [
    {
     "name": "stdout",
     "output_type": "stream",
     "text": [
      "{'CA': [56, 28, 22, 61, 24, 26, 17, 65, 48, 55, 0, 2, 45, 12, 40, 7, 46, 5, 2, 28, 33, 32, 32, 58, 9, 6, 1, 20, 58, 20, 55, 45, 8, 9, 32, 30, 57, 48, 4, 30, 60, 22, 16, 23, 19, 5, 61, 50, 8, 41, 59, 2, 4, 42, 38, 33, 3, 64, 52, 50, 44, 7, 36, 5, 50, 37, 15, 1, 63, 45, 19, 53, 19, 14, 38, 33, 51, 8, 11, 28, 26, 56, 25, 9, 34, 33, 44, 45, 60, 56, 28, 44, 54, 8, 30, 2, 38, 9, 40, 48], 'IL': [11, 50, 57, 55, 40, 55, 56, 10, 61, 52, 65, 64, 12, 34, 55, 49, 36, 35, 19, 43, 58, 47, 13, 25, 8, 49, 5, 51, 58, 39, 52, 53, 33, 9, 46, 42, 2, 7, 47, 10, 38, 62, 52, 16, 43, 43, 61, 11, 56, 13], 'NY': [16, 23, 15, 63, 2, 45, 65, 25, 49, 16, 18, 22, 51, 2, 33, 11, 33, 4, 64, 42, 61, 51, 39, 37, 9, 39, 55, 11, 15, 33, 2, 9, 12, 24, 21, 59, 62, 39, 30, 32, 50, 26, 18, 11, 31, 53, 53, 41, 9, 50, 26, 10, 47, 4, 9, 48, 60, 57, 33, 62, 27, 40, 36, 14, 32, 51, 27, 12, 65, 25, 59, 44, 36, 28, 1, 10, 52, 50, 65, 29, 33, 37, 47, 25, 22, 32, 24, 4, 13, 25], 'WA': [9, 2, 17, 29, 16, 48, 54, 3, 62, 45, 28, 32, 29, 37, 1, 47, 29, 53, 0, 40, 21, 21, 43, 44, 2, 4, 5, 61, 63, 18, 57, 29, 22]}\n"
     ]
    }
   ],
   "source": [
    "print(lots_of_noise)"
   ]
  },
  {
   "cell_type": "code",
   "execution_count": 3,
   "metadata": {},
   "outputs": [
    {
     "name": "stdout",
     "output_type": "stream",
     "text": [
      "Variable          Type                          Data/Info\n",
      "---------------------------------------------------------\n",
      "NamespaceMagics   MetaHasTraits                 <class 'IPython.core.magi<...>mespace.NamespaceMagics'>\n",
      "get_ipython       function                      <function get_ipython at 0x10c4d1048>\n",
      "getsizeof         builtin_function_or_method    <built-in function getsizeof>\n",
      "json              module                        <module 'json' from '/Use<...>hon3.6/json/__init__.py'>\n",
      "lots_of_noise     dict                          n=4\n",
      "np                module                        <module 'numpy' from '/Us<...>kages/numpy/__init__.py'>\n",
      "pickle            module                        <module 'pickle' from '/U<...>lib/python3.6/pickle.py'>\n",
      "random            module                        <module 'random' from '/U<...>lib/python3.6/random.py'>\n",
      "var_dic_list      function                      <function var_dic_list at 0x10f43f1e0>\n"
     ]
    }
   ],
   "source": [
    "whos"
   ]
  },
  {
   "cell_type": "markdown",
   "metadata": {},
   "source": [
    "We can see in this `whos` command that the object `lots_of_noise` exists and is a `dict` with 4 keys. Nice. Now let's look at our file system and verify that there isn't a file called `noise.pickle`."
   ]
  },
  {
   "cell_type": "code",
   "execution_count": 4,
   "metadata": {},
   "outputs": [
    {
     "name": "stdout",
     "output_type": "stream",
     "text": [
      "advanced_python_datatypes.ipynb       my_dataframe.pickle\r\n",
      "deep_and_shallow_copy.ipynb           noise.pickle\r\n",
      "\u001b[34mdeep_copy_demo\u001b[m\u001b[m                        pickle_saving_objects_for_later.ipynb\r\n",
      "instructor_guide_week1_day4.md        readme.md\r\n"
     ]
    }
   ],
   "source": [
    "!ls"
   ]
  },
  {
   "cell_type": "markdown",
   "metadata": {},
   "source": [
    "Okay, now we're ready to create a file and write the bytes to it. To do this with `pickle`, we use python's read-write streamer `open` and create a writable-binary (`wb`) file. We'll then use `pickle.dump` to put an object into that file as a string of bytes."
   ]
  },
  {
   "cell_type": "code",
   "execution_count": 5,
   "metadata": {},
   "outputs": [],
   "source": [
    "with open('noise.pickle', 'wb') as to_write:\n",
    "    pickle.dump(lots_of_noise, to_write)"
   ]
  },
  {
   "cell_type": "code",
   "execution_count": 6,
   "metadata": {},
   "outputs": [
    {
     "name": "stdout",
     "output_type": "stream",
     "text": [
      "advanced_python_datatypes.ipynb       my_dataframe.pickle\r\n",
      "deep_and_shallow_copy.ipynb           noise.pickle\r\n",
      "\u001b[34mdeep_copy_demo\u001b[m\u001b[m                        pickle_saving_objects_for_later.ipynb\r\n",
      "instructor_guide_week1_day4.md        readme.md\r\n"
     ]
    }
   ],
   "source": [
    "!ls"
   ]
  },
  {
   "cell_type": "markdown",
   "metadata": {},
   "source": [
    "Now let's delete `lots_of_noise` and prove to ourselves it doesn't exist in Python's memory anymore."
   ]
  },
  {
   "cell_type": "code",
   "execution_count": 7,
   "metadata": {},
   "outputs": [],
   "source": [
    "del lots_of_noise"
   ]
  },
  {
   "cell_type": "code",
   "execution_count": 8,
   "metadata": {},
   "outputs": [
    {
     "name": "stdout",
     "output_type": "stream",
     "text": [
      "Variable          Type                          Data/Info\n",
      "---------------------------------------------------------\n",
      "NamespaceMagics   MetaHasTraits                 <class 'IPython.core.magi<...>mespace.NamespaceMagics'>\n",
      "get_ipython       function                      <function get_ipython at 0x10c4d1048>\n",
      "getsizeof         builtin_function_or_method    <built-in function getsizeof>\n",
      "json              module                        <module 'json' from '/Use<...>hon3.6/json/__init__.py'>\n",
      "np                module                        <module 'numpy' from '/Us<...>kages/numpy/__init__.py'>\n",
      "pickle            module                        <module 'pickle' from '/U<...>lib/python3.6/pickle.py'>\n",
      "random            module                        <module 'random' from '/U<...>lib/python3.6/random.py'>\n",
      "to_write          BufferedWriter                <_io.BufferedWriter name='noise.pickle'>\n",
      "var_dic_list      function                      <function var_dic_list at 0x10f43f1e0>\n"
     ]
    }
   ],
   "source": [
    "whos"
   ]
  },
  {
   "cell_type": "code",
   "execution_count": 9,
   "metadata": {},
   "outputs": [
    {
     "ename": "NameError",
     "evalue": "name 'lots_of_noise' is not defined",
     "output_type": "error",
     "traceback": [
      "\u001b[0;31m---------------------------------------------------------------------------\u001b[0m",
      "\u001b[0;31mNameError\u001b[0m                                 Traceback (most recent call last)",
      "\u001b[0;32m<ipython-input-9-69f22b4d5ca8>\u001b[0m in \u001b[0;36m<module>\u001b[0;34m\u001b[0m\n\u001b[0;32m----> 1\u001b[0;31m \u001b[0mprint\u001b[0m\u001b[0;34m(\u001b[0m\u001b[0mlots_of_noise\u001b[0m\u001b[0;34m)\u001b[0m\u001b[0;34m\u001b[0m\u001b[0;34m\u001b[0m\u001b[0m\n\u001b[0m",
      "\u001b[0;31mNameError\u001b[0m: name 'lots_of_noise' is not defined"
     ]
    }
   ],
   "source": [
    "print(lots_of_noise)"
   ]
  },
  {
   "cell_type": "markdown",
   "metadata": {},
   "source": [
    "Lovely. It's dead forever. Or is it?\n",
    "\n",
    "Let's open that `noise.pickle` file with read-binary (`rb`) mode. Then we'll ask pickle to retrieve the file with `pickle.load` and store it back in a variable."
   ]
  },
  {
   "cell_type": "code",
   "execution_count": 10,
   "metadata": {},
   "outputs": [],
   "source": [
    "with open('noise.pickle','rb') as read_file:\n",
    "    new_noise = pickle.load(read_file)"
   ]
  },
  {
   "cell_type": "code",
   "execution_count": 11,
   "metadata": {},
   "outputs": [
    {
     "name": "stdout",
     "output_type": "stream",
     "text": [
      "{'CA': [56, 28, 22, 61, 24, 26, 17, 65, 48, 55, 0, 2, 45, 12, 40, 7, 46, 5, 2, 28, 33, 32, 32, 58, 9, 6, 1, 20, 58, 20, 55, 45, 8, 9, 32, 30, 57, 48, 4, 30, 60, 22, 16, 23, 19, 5, 61, 50, 8, 41, 59, 2, 4, 42, 38, 33, 3, 64, 52, 50, 44, 7, 36, 5, 50, 37, 15, 1, 63, 45, 19, 53, 19, 14, 38, 33, 51, 8, 11, 28, 26, 56, 25, 9, 34, 33, 44, 45, 60, 56, 28, 44, 54, 8, 30, 2, 38, 9, 40, 48], 'IL': [11, 50, 57, 55, 40, 55, 56, 10, 61, 52, 65, 64, 12, 34, 55, 49, 36, 35, 19, 43, 58, 47, 13, 25, 8, 49, 5, 51, 58, 39, 52, 53, 33, 9, 46, 42, 2, 7, 47, 10, 38, 62, 52, 16, 43, 43, 61, 11, 56, 13], 'NY': [16, 23, 15, 63, 2, 45, 65, 25, 49, 16, 18, 22, 51, 2, 33, 11, 33, 4, 64, 42, 61, 51, 39, 37, 9, 39, 55, 11, 15, 33, 2, 9, 12, 24, 21, 59, 62, 39, 30, 32, 50, 26, 18, 11, 31, 53, 53, 41, 9, 50, 26, 10, 47, 4, 9, 48, 60, 57, 33, 62, 27, 40, 36, 14, 32, 51, 27, 12, 65, 25, 59, 44, 36, 28, 1, 10, 52, 50, 65, 29, 33, 37, 47, 25, 22, 32, 24, 4, 13, 25], 'WA': [9, 2, 17, 29, 16, 48, 54, 3, 62, 45, 28, 32, 29, 37, 1, 47, 29, 53, 0, 40, 21, 21, 43, 44, 2, 4, 5, 61, 63, 18, 57, 29, 22]}\n"
     ]
    }
   ],
   "source": [
    "print(new_noise)"
   ]
  },
  {
   "cell_type": "code",
   "execution_count": 12,
   "metadata": {},
   "outputs": [
    {
     "name": "stdout",
     "output_type": "stream",
     "text": [
      "Variable          Type                          Data/Info\n",
      "---------------------------------------------------------\n",
      "NamespaceMagics   MetaHasTraits                 <class 'IPython.core.magi<...>mespace.NamespaceMagics'>\n",
      "get_ipython       function                      <function get_ipython at 0x10c4d1048>\n",
      "getsizeof         builtin_function_or_method    <built-in function getsizeof>\n",
      "json              module                        <module 'json' from '/Use<...>hon3.6/json/__init__.py'>\n",
      "new_noise         dict                          n=4\n",
      "np                module                        <module 'numpy' from '/Us<...>kages/numpy/__init__.py'>\n",
      "pickle            module                        <module 'pickle' from '/U<...>lib/python3.6/pickle.py'>\n",
      "random            module                        <module 'random' from '/U<...>lib/python3.6/random.py'>\n",
      "read_file         BufferedReader                <_io.BufferedReader name='noise.pickle'>\n",
      "to_write          BufferedWriter                <_io.BufferedWriter name='noise.pickle'>\n",
      "var_dic_list      function                      <function var_dic_list at 0x10f43f1e0>\n"
     ]
    }
   ],
   "source": [
    "whos"
   ]
  },
  {
   "cell_type": "markdown",
   "metadata": {},
   "source": [
    "Random noise lives! We retrieved the entire structure from file. Nice."
   ]
  },
  {
   "cell_type": "markdown",
   "metadata": {},
   "source": [
    "### Okay, but I don't use dictionaries... I use pandas."
   ]
  },
  {
   "cell_type": "code",
   "execution_count": 13,
   "metadata": {},
   "outputs": [
    {
     "data": {
      "text/html": [
       "<div>\n",
       "<style scoped>\n",
       "    .dataframe tbody tr th:only-of-type {\n",
       "        vertical-align: middle;\n",
       "    }\n",
       "\n",
       "    .dataframe tbody tr th {\n",
       "        vertical-align: top;\n",
       "    }\n",
       "\n",
       "    .dataframe thead th {\n",
       "        text-align: right;\n",
       "    }\n",
       "</style>\n",
       "<table border=\"1\" class=\"dataframe\">\n",
       "  <thead>\n",
       "    <tr style=\"text-align: right;\">\n",
       "      <th></th>\n",
       "      <th>Yay</th>\n",
       "      <th>specific</th>\n",
       "      <th>column</th>\n",
       "      <th>names</th>\n",
       "    </tr>\n",
       "  </thead>\n",
       "  <tbody>\n",
       "    <tr>\n",
       "      <th>0</th>\n",
       "      <td>-0.443750</td>\n",
       "      <td>-1.876382</td>\n",
       "      <td>2.797000</td>\n",
       "      <td>9.347648</td>\n",
       "    </tr>\n",
       "    <tr>\n",
       "      <th>1</th>\n",
       "      <td>9.506737</td>\n",
       "      <td>5.578978</td>\n",
       "      <td>-1.787902</td>\n",
       "      <td>5.672900</td>\n",
       "    </tr>\n",
       "    <tr>\n",
       "      <th>2</th>\n",
       "      <td>-6.795544</td>\n",
       "      <td>0.131896</td>\n",
       "      <td>-9.873198</td>\n",
       "      <td>1.180844</td>\n",
       "    </tr>\n",
       "    <tr>\n",
       "      <th>3</th>\n",
       "      <td>-2.787859</td>\n",
       "      <td>7.590471</td>\n",
       "      <td>-6.564358</td>\n",
       "      <td>-1.463425</td>\n",
       "    </tr>\n",
       "    <tr>\n",
       "      <th>4</th>\n",
       "      <td>-8.758683</td>\n",
       "      <td>0.873801</td>\n",
       "      <td>7.769150</td>\n",
       "      <td>-0.712817</td>\n",
       "    </tr>\n",
       "  </tbody>\n",
       "</table>\n",
       "</div>"
      ],
      "text/plain": [
       "        Yay  specific    column     names\n",
       "0 -0.443750 -1.876382  2.797000  9.347648\n",
       "1  9.506737  5.578978 -1.787902  5.672900\n",
       "2 -6.795544  0.131896 -9.873198  1.180844\n",
       "3 -2.787859  7.590471 -6.564358 -1.463425\n",
       "4 -8.758683  0.873801  7.769150 -0.712817"
      ]
     },
     "execution_count": 13,
     "metadata": {},
     "output_type": "execute_result"
    }
   ],
   "source": [
    "import pandas as pd\n",
    "import numpy as np\n",
    "\n",
    "df = pd.DataFrame(np.random.uniform(-10,10, size=(100,4)), columns=['Yay','specific','column','names'])\n",
    "df.head(5)"
   ]
  },
  {
   "cell_type": "code",
   "execution_count": 14,
   "metadata": {},
   "outputs": [],
   "source": [
    "with open('my_dataframe.pickle', 'wb') as to_write:\n",
    "    pickle.dump(df, to_write)"
   ]
  },
  {
   "cell_type": "code",
   "execution_count": 15,
   "metadata": {},
   "outputs": [
    {
     "ename": "NameError",
     "evalue": "name 'df' is not defined",
     "output_type": "error",
     "traceback": [
      "\u001b[0;31m---------------------------------------------------------------------------\u001b[0m",
      "\u001b[0;31mNameError\u001b[0m                                 Traceback (most recent call last)",
      "\u001b[0;32m<ipython-input-15-3975f6306adf>\u001b[0m in \u001b[0;36m<module>\u001b[0;34m\u001b[0m\n\u001b[1;32m      1\u001b[0m \u001b[0;32mdel\u001b[0m \u001b[0mdf\u001b[0m\u001b[0;34m\u001b[0m\u001b[0;34m\u001b[0m\u001b[0m\n\u001b[1;32m      2\u001b[0m \u001b[0;34m\u001b[0m\u001b[0m\n\u001b[0;32m----> 3\u001b[0;31m \u001b[0mdf\u001b[0m\u001b[0;34m.\u001b[0m\u001b[0mhead\u001b[0m\u001b[0;34m(\u001b[0m\u001b[0;36m5\u001b[0m\u001b[0;34m)\u001b[0m\u001b[0;34m\u001b[0m\u001b[0;34m\u001b[0m\u001b[0m\n\u001b[0m",
      "\u001b[0;31mNameError\u001b[0m: name 'df' is not defined"
     ]
    }
   ],
   "source": [
    "del df\n",
    "\n",
    "df.head(5)"
   ]
  },
  {
   "cell_type": "code",
   "execution_count": 16,
   "metadata": {},
   "outputs": [
    {
     "data": {
      "text/html": [
       "<div>\n",
       "<style scoped>\n",
       "    .dataframe tbody tr th:only-of-type {\n",
       "        vertical-align: middle;\n",
       "    }\n",
       "\n",
       "    .dataframe tbody tr th {\n",
       "        vertical-align: top;\n",
       "    }\n",
       "\n",
       "    .dataframe thead th {\n",
       "        text-align: right;\n",
       "    }\n",
       "</style>\n",
       "<table border=\"1\" class=\"dataframe\">\n",
       "  <thead>\n",
       "    <tr style=\"text-align: right;\">\n",
       "      <th></th>\n",
       "      <th>Yay</th>\n",
       "      <th>specific</th>\n",
       "      <th>column</th>\n",
       "      <th>names</th>\n",
       "    </tr>\n",
       "  </thead>\n",
       "  <tbody>\n",
       "    <tr>\n",
       "      <th>0</th>\n",
       "      <td>-0.443750</td>\n",
       "      <td>-1.876382</td>\n",
       "      <td>2.797000</td>\n",
       "      <td>9.347648</td>\n",
       "    </tr>\n",
       "    <tr>\n",
       "      <th>1</th>\n",
       "      <td>9.506737</td>\n",
       "      <td>5.578978</td>\n",
       "      <td>-1.787902</td>\n",
       "      <td>5.672900</td>\n",
       "    </tr>\n",
       "    <tr>\n",
       "      <th>2</th>\n",
       "      <td>-6.795544</td>\n",
       "      <td>0.131896</td>\n",
       "      <td>-9.873198</td>\n",
       "      <td>1.180844</td>\n",
       "    </tr>\n",
       "    <tr>\n",
       "      <th>3</th>\n",
       "      <td>-2.787859</td>\n",
       "      <td>7.590471</td>\n",
       "      <td>-6.564358</td>\n",
       "      <td>-1.463425</td>\n",
       "    </tr>\n",
       "    <tr>\n",
       "      <th>4</th>\n",
       "      <td>-8.758683</td>\n",
       "      <td>0.873801</td>\n",
       "      <td>7.769150</td>\n",
       "      <td>-0.712817</td>\n",
       "    </tr>\n",
       "  </tbody>\n",
       "</table>\n",
       "</div>"
      ],
      "text/plain": [
       "        Yay  specific    column     names\n",
       "0 -0.443750 -1.876382  2.797000  9.347648\n",
       "1  9.506737  5.578978 -1.787902  5.672900\n",
       "2 -6.795544  0.131896 -9.873198  1.180844\n",
       "3 -2.787859  7.590471 -6.564358 -1.463425\n",
       "4 -8.758683  0.873801  7.769150 -0.712817"
      ]
     },
     "execution_count": 16,
     "metadata": {},
     "output_type": "execute_result"
    }
   ],
   "source": [
    "with open('my_dataframe.pickle','rb') as read_file:\n",
    "    new_df = pickle.load(read_file)\n",
    "    \n",
    "new_df.head(5)"
   ]
  },
  {
   "cell_type": "markdown",
   "metadata": {},
   "source": [
    "Pickle is a great tool. One recommended way of using it is to make it an end point of every step in your process. Example:\n",
    "\n",
    "* I got my data! Nice. Pickle it and stop your \"getting the data\" notebook.\n",
    "* Load your data from pickle. Clean it. Save your clean data to a new pickle.\n",
    "* Load your cleaned_data pickle. Do analysis and visualize it.\n",
    "\n",
    "This can provide natural \"pick-up-where-I-left-off-but-before-I-broke-my-data\" points. It's a great way to control the flow of your data.\n",
    "\n",
    "#### Resources\n",
    "\n",
    "https://docs.python.org/3.7/library/pickle.html"
   ]
  },
  {
   "cell_type": "code",
   "execution_count": null,
   "metadata": {},
   "outputs": [],
   "source": []
  }
 ],
 "metadata": {
  "kernelspec": {
   "display_name": "Python 3",
   "language": "python",
   "name": "python3"
  },
  "language_info": {
   "codemirror_mode": {
    "name": "ipython",
    "version": 3
   },
   "file_extension": ".py",
   "mimetype": "text/x-python",
   "name": "python",
   "nbconvert_exporter": "python",
   "pygments_lexer": "ipython3",
   "version": "3.6.8"
  },
  "varInspector": {
   "cols": {
    "lenName": 16,
    "lenType": 16,
    "lenVar": 40
   },
   "kernels_config": {
    "python": {
     "delete_cmd_postfix": "",
     "delete_cmd_prefix": "del ",
     "library": "var_list.py",
     "varRefreshCmd": "print(var_dic_list())"
    },
    "r": {
     "delete_cmd_postfix": ") ",
     "delete_cmd_prefix": "rm(",
     "library": "var_list.r",
     "varRefreshCmd": "cat(var_dic_list()) "
    }
   },
   "types_to_exclude": [
    "module",
    "function",
    "builtin_function_or_method",
    "instance",
    "_Feature"
   ],
   "window_display": false
  }
 },
 "nbformat": 4,
 "nbformat_minor": 1
}
